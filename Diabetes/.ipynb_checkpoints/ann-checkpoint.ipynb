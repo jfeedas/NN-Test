{
 "cells": [
  {
   "cell_type": "code",
   "execution_count": 1,
   "id": "67ead8d5",
   "metadata": {},
   "outputs": [],
   "source": [
    "import numpy as np\n",
    "import torch\n",
    "import torch.nn as nn\n",
    "import pandas as pd\n",
    "from sklearn.preprocessing import StandardScaler\n",
    "from torch.utils.data import Dataset\n",
    "\n",
    "sc = StandardScaler()"
   ]
  },
  {
   "cell_type": "markdown",
   "id": "6f70a45c",
   "metadata": {},
   "source": [
    "### Read Data"
   ]
  },
  {
   "cell_type": "code",
   "execution_count": 2,
   "id": "cd3b0f8e",
   "metadata": {},
   "outputs": [],
   "source": [
    "data = pd.read_csv('diabetes.csv')"
   ]
  },
  {
   "cell_type": "markdown",
   "id": "48282119",
   "metadata": {},
   "source": [
    "### Make X"
   ]
  },
  {
   "cell_type": "code",
   "execution_count": 3,
   "id": "ac54e1a3",
   "metadata": {},
   "outputs": [],
   "source": [
    "X = data.iloc[:,0:-1].values\n",
    "X = torch.tensor(sc.fit_transform(X))"
   ]
  },
  {
   "cell_type": "markdown",
   "id": "30e40139",
   "metadata": {},
   "source": [
    "### Make Y"
   ]
  },
  {
   "cell_type": "code",
   "execution_count": 5,
   "id": "cad8a871",
   "metadata": {},
   "outputs": [],
   "source": [
    "Y = data.iloc[:,-1].values\n",
    "y_int = [];\n",
    "for s in Y:\n",
    "    if s == 'positive':\n",
    "        y_int.append(1)\n",
    "    else:\n",
    "        y_int.append(0)\n",
    "        \n",
    "Y = np.array(y_int, dtype = 'float64')\n",
    "Y = torch.tensor(Y).unsqueeze(1)"
   ]
  },
  {
   "cell_type": "markdown",
   "id": "2315b03b",
   "metadata": {},
   "source": [
    "### Dataset"
   ]
  },
  {
   "cell_type": "code",
   "execution_count": 35,
   "id": "ea8535b1",
   "metadata": {},
   "outputs": [],
   "source": [
    "class Dataset(Dataset):\n",
    "    \n",
    "    def __init__(self, x, y):\n",
    "        self.x = y\n",
    "        self.y = y\n",
    "        \n",
    "    def __getitem__(self, index):\n",
    "        return self.x[index], self.y[index]\n",
    "    \n",
    "    def __len__(self):\n",
    "        return len(self.x)"
   ]
  },
  {
   "cell_type": "markdown",
   "id": "d233b9d8",
   "metadata": {},
   "source": [
    "### Loading Data"
   ]
  },
  {
   "cell_type": "code",
   "execution_count": 36,
   "id": "4d20447e",
   "metadata": {},
   "outputs": [],
   "source": [
    "dataset = Dataset(X, Y)\n",
    "train_loader = torch.utils.data.DataLoader(dataset=dataset, batch_size=32, shuffle=True)"
   ]
  },
  {
   "cell_type": "code",
   "execution_count": 40,
   "id": "daada33b",
   "metadata": {},
   "outputs": [
    {
     "name": "stdout",
     "output_type": "stream",
     "text": [
      "X = torch.Size([32, 1]), Y = torch.Size([32, 1])\n"
     ]
    }
   ],
   "source": [
    "for (x, y) in train_loader:\n",
    "    print(\"X = {}, Y = {}\".format(x.shape, y.shape))\n",
    "    break"
   ]
  }
 ],
 "metadata": {
  "kernelspec": {
   "display_name": "Python 3 (ipykernel)",
   "language": "python",
   "name": "python3"
  },
  "language_info": {
   "codemirror_mode": {
    "name": "ipython",
    "version": 3
   },
   "file_extension": ".py",
   "mimetype": "text/x-python",
   "name": "python",
   "nbconvert_exporter": "python",
   "pygments_lexer": "ipython3",
   "version": "3.9.12"
  }
 },
 "nbformat": 4,
 "nbformat_minor": 5
}
